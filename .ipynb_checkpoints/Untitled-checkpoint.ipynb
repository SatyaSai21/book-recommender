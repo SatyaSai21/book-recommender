{
 "cells": [
  {
   "cell_type": "code",
   "execution_count": 23,
   "id": "b47ef6b9",
   "metadata": {},
   "outputs": [],
   "source": [
    "import pandas as pd\n",
    "import numpy as np\n",
    "import matplotlib.pyplot as plt\n",
    "import seaborn as sns"
   ]
  },
  {
   "cell_type": "code",
   "execution_count": 167,
   "id": "58bbb8d8",
   "metadata": {},
   "outputs": [
    {
     "name": "stderr",
     "output_type": "stream",
     "text": [
      "C:\\Users\\Sathya Sai\\AppData\\Local\\Temp\\ipykernel_15888\\3397335393.py:1: DtypeWarning: Columns (3) have mixed types. Specify dtype option on import or set low_memory=False.\n",
      "  books=pd.read_csv('Books.csv')\n"
     ]
    }
   ],
   "source": [
    "books=pd.read_csv('Books.csv')\n",
    "users=pd.read_csv('Users.csv')\n",
    "ratings=pd.read_csv('Ratings.csv')"
   ]
  },
  {
   "cell_type": "code",
   "execution_count": 396,
   "id": "7e6424b4",
   "metadata": {},
   "outputs": [
    {
     "data": {
      "text/plain": [
       "'http://images.amazon.com/images/P/0002005018.01.MZZZZZZZ.jpg'"
      ]
     },
     "execution_count": 396,
     "metadata": {},
     "output_type": "execute_result"
    }
   ],
   "source": [
    "books['Image-URL-M'][1] # M -------> Medium size image of book"
   ]
  },
  {
   "cell_type": "code",
   "execution_count": 5,
   "id": "824eec34",
   "metadata": {},
   "outputs": [
    {
     "data": {
      "text/html": [
       "<div>\n",
       "<style scoped>\n",
       "    .dataframe tbody tr th:only-of-type {\n",
       "        vertical-align: middle;\n",
       "    }\n",
       "\n",
       "    .dataframe tbody tr th {\n",
       "        vertical-align: top;\n",
       "    }\n",
       "\n",
       "    .dataframe thead th {\n",
       "        text-align: right;\n",
       "    }\n",
       "</style>\n",
       "<table border=\"1\" class=\"dataframe\">\n",
       "  <thead>\n",
       "    <tr style=\"text-align: right;\">\n",
       "      <th></th>\n",
       "      <th>ISBN</th>\n",
       "      <th>Book-Title</th>\n",
       "      <th>Book-Author</th>\n",
       "      <th>Year-Of-Publication</th>\n",
       "      <th>Publisher</th>\n",
       "      <th>Image-URL-S</th>\n",
       "      <th>Image-URL-M</th>\n",
       "      <th>Image-URL-L</th>\n",
       "    </tr>\n",
       "  </thead>\n",
       "  <tbody>\n",
       "    <tr>\n",
       "      <th>90092</th>\n",
       "      <td>0440228123</td>\n",
       "      <td>Sunshine Rider: The First Vegetarian Western (...</td>\n",
       "      <td>Ric Lynden Hardman</td>\n",
       "      <td>1999</td>\n",
       "      <td>Laurel Leaf Library</td>\n",
       "      <td>http://images.amazon.com/images/P/0440228123.0...</td>\n",
       "      <td>http://images.amazon.com/images/P/0440228123.0...</td>\n",
       "      <td>http://images.amazon.com/images/P/0440228123.0...</td>\n",
       "    </tr>\n",
       "  </tbody>\n",
       "</table>\n",
       "</div>"
      ],
      "text/plain": [
       "             ISBN                                         Book-Title  \\\n",
       "90092  0440228123  Sunshine Rider: The First Vegetarian Western (...   \n",
       "\n",
       "              Book-Author Year-Of-Publication            Publisher  \\\n",
       "90092  Ric Lynden Hardman                1999  Laurel Leaf Library   \n",
       "\n",
       "                                             Image-URL-S  \\\n",
       "90092  http://images.amazon.com/images/P/0440228123.0...   \n",
       "\n",
       "                                             Image-URL-M  \\\n",
       "90092  http://images.amazon.com/images/P/0440228123.0...   \n",
       "\n",
       "                                             Image-URL-L  \n",
       "90092  http://images.amazon.com/images/P/0440228123.0...  "
      ]
     },
     "execution_count": 5,
     "metadata": {},
     "output_type": "execute_result"
    }
   ],
   "source": [
    "books.sample(n=1)"
   ]
  },
  {
   "cell_type": "code",
   "execution_count": 6,
   "id": "fa23417f",
   "metadata": {},
   "outputs": [
    {
     "data": {
      "text/html": [
       "<div>\n",
       "<style scoped>\n",
       "    .dataframe tbody tr th:only-of-type {\n",
       "        vertical-align: middle;\n",
       "    }\n",
       "\n",
       "    .dataframe tbody tr th {\n",
       "        vertical-align: top;\n",
       "    }\n",
       "\n",
       "    .dataframe thead th {\n",
       "        text-align: right;\n",
       "    }\n",
       "</style>\n",
       "<table border=\"1\" class=\"dataframe\">\n",
       "  <thead>\n",
       "    <tr style=\"text-align: right;\">\n",
       "      <th></th>\n",
       "      <th>User-ID</th>\n",
       "      <th>Location</th>\n",
       "      <th>Age</th>\n",
       "    </tr>\n",
       "  </thead>\n",
       "  <tbody>\n",
       "    <tr>\n",
       "      <th>16334</th>\n",
       "      <td>16335</td>\n",
       "      <td>toronto, ontario, canada</td>\n",
       "      <td>26.0</td>\n",
       "    </tr>\n",
       "  </tbody>\n",
       "</table>\n",
       "</div>"
      ],
      "text/plain": [
       "       User-ID                  Location   Age\n",
       "16334    16335  toronto, ontario, canada  26.0"
      ]
     },
     "execution_count": 6,
     "metadata": {},
     "output_type": "execute_result"
    }
   ],
   "source": [
    "users.sample(n=1)"
   ]
  },
  {
   "cell_type": "code",
   "execution_count": 7,
   "id": "a7e5b5e7",
   "metadata": {},
   "outputs": [
    {
     "data": {
      "text/html": [
       "<div>\n",
       "<style scoped>\n",
       "    .dataframe tbody tr th:only-of-type {\n",
       "        vertical-align: middle;\n",
       "    }\n",
       "\n",
       "    .dataframe tbody tr th {\n",
       "        vertical-align: top;\n",
       "    }\n",
       "\n",
       "    .dataframe thead th {\n",
       "        text-align: right;\n",
       "    }\n",
       "</style>\n",
       "<table border=\"1\" class=\"dataframe\">\n",
       "  <thead>\n",
       "    <tr style=\"text-align: right;\">\n",
       "      <th></th>\n",
       "      <th>User-ID</th>\n",
       "      <th>ISBN</th>\n",
       "      <th>Book-Rating</th>\n",
       "    </tr>\n",
       "  </thead>\n",
       "  <tbody>\n",
       "    <tr>\n",
       "      <th>641060</th>\n",
       "      <td>154788</td>\n",
       "      <td>0451455509</td>\n",
       "      <td>6</td>\n",
       "    </tr>\n",
       "  </tbody>\n",
       "</table>\n",
       "</div>"
      ],
      "text/plain": [
       "        User-ID        ISBN  Book-Rating\n",
       "641060   154788  0451455509            6"
      ]
     },
     "execution_count": 7,
     "metadata": {},
     "output_type": "execute_result"
    }
   ],
   "source": [
    "ratings.sample(n=1)"
   ]
  },
  {
   "cell_type": "code",
   "execution_count": 8,
   "id": "7c23a444",
   "metadata": {},
   "outputs": [
    {
     "name": "stdout",
     "output_type": "stream",
     "text": [
      "Shape of Users = (278858, 3)\n",
      "Shape of Books = (271360, 8)\n",
      "Shape of Ratings = (1149780, 3)\n"
     ]
    }
   ],
   "source": [
    "print(\"Shape of Users = {}\".format(users.shape))\n",
    "print(\"Shape of Books = {}\".format(books.shape))\n",
    "print(\"Shape of Ratings = {}\".format(ratings.shape))"
   ]
  },
  {
   "cell_type": "code",
   "execution_count": 10,
   "id": "6be30169",
   "metadata": {},
   "outputs": [
    {
     "data": {
      "text/plain": [
       "ISBN                   0\n",
       "Book-Title             0\n",
       "Book-Author            1\n",
       "Year-Of-Publication    0\n",
       "Publisher              2\n",
       "Image-URL-S            0\n",
       "Image-URL-M            0\n",
       "Image-URL-L            3\n",
       "dtype: int64"
      ]
     },
     "execution_count": 10,
     "metadata": {},
     "output_type": "execute_result"
    }
   ],
   "source": [
    "books.isnull().sum()"
   ]
  },
  {
   "cell_type": "code",
   "execution_count": 13,
   "id": "a2468d2f",
   "metadata": {},
   "outputs": [
    {
     "data": {
      "text/plain": [
       "User-ID          0\n",
       "Location         0\n",
       "Age         110762\n",
       "dtype: int64"
      ]
     },
     "execution_count": 13,
     "metadata": {},
     "output_type": "execute_result"
    }
   ],
   "source": [
    "users.isna().sum() #Age is not important in our model"
   ]
  },
  {
   "cell_type": "code",
   "execution_count": 12,
   "id": "03bfc2b3",
   "metadata": {},
   "outputs": [
    {
     "data": {
      "text/plain": [
       "User-ID        0\n",
       "ISBN           0\n",
       "Book-Rating    0\n",
       "dtype: int64"
      ]
     },
     "execution_count": 12,
     "metadata": {},
     "output_type": "execute_result"
    }
   ],
   "source": [
    "(~ratings.notna()).sum()"
   ]
  },
  {
   "cell_type": "code",
   "execution_count": null,
   "id": "fdb9205a",
   "metadata": {
    "scrolled": true
   },
   "outputs": [],
   "source": []
  },
  {
   "cell_type": "code",
   "execution_count": 168,
   "id": "5d1c5e6b",
   "metadata": {},
   "outputs": [
    {
     "data": {
      "text/plain": [
       "Index(['DK Publishing Inc', 'Gallimard'], dtype='object')"
      ]
     },
     "execution_count": 168,
     "metadata": {},
     "output_type": "execute_result"
    }
   ],
   "source": [
    "books[\"Year-Of-Publication\"].value_counts().index[pd.to_numeric(books[\"Year-Of-Publication\"].value_counts().index,errors='coerce',downcast='integer').isna()]#[(pd.to_numeric(books[\"Year-Of-Publication\"].value_counts(),errors='coerce').isnull())]"
   ]
  },
  {
   "cell_type": "code",
   "execution_count": 169,
   "id": "ace62804",
   "metadata": {},
   "outputs": [
    {
     "data": {
      "text/plain": [
       "DK Publishing Inc    2\n",
       "Gallimard            1\n",
       "Name: Year-Of-Publication, dtype: int64"
      ]
     },
     "execution_count": 169,
     "metadata": {},
     "output_type": "execute_result"
    }
   ],
   "source": [
    "books[\"Year-Of-Publication\"].value_counts()[(books[\"Year-Of-Publication\"].value_counts().index == 'Gallimard') | (books[\"Year-Of-Publication\"].value_counts().index == 'DK Publishing Inc')]#in ['DK Publishing Inc','Gallimard']"
   ]
  },
  {
   "cell_type": "code",
   "execution_count": 170,
   "id": "c3cf1afe",
   "metadata": {},
   "outputs": [],
   "source": [
    "books[\"Year-Of-Publication\"]=(pd.to_numeric(books[\"Year-Of-Publication\"],errors='coerce',downcast='integer'))"
   ]
  },
  {
   "cell_type": "code",
   "execution_count": 172,
   "id": "49273b44",
   "metadata": {},
   "outputs": [],
   "source": [
    "# Data is missing at Random\n",
    "books.dropna(axis=0,inplace=True)"
   ]
  },
  {
   "cell_type": "code",
   "execution_count": 173,
   "id": "2b841d3f",
   "metadata": {},
   "outputs": [],
   "source": [
    "books[\"Year-Of-Publication\"]=books[\"Year-Of-Publication\"].astype(int)"
   ]
  },
  {
   "cell_type": "code",
   "execution_count": 174,
   "id": "ae835a5a",
   "metadata": {},
   "outputs": [
    {
     "data": {
      "text/plain": [
       "ISBN                   0\n",
       "Book-Title             0\n",
       "Book-Author            0\n",
       "Year-Of-Publication    0\n",
       "Publisher              0\n",
       "Image-URL-S            0\n",
       "Image-URL-M            0\n",
       "Image-URL-L            0\n",
       "dtype: int64"
      ]
     },
     "execution_count": 174,
     "metadata": {},
     "output_type": "execute_result"
    }
   ],
   "source": [
    "books.isna().sum()"
   ]
  },
  {
   "cell_type": "code",
   "execution_count": 208,
   "id": "6debf97f",
   "metadata": {},
   "outputs": [
    {
     "data": {
      "text/plain": [
       "0"
      ]
     },
     "execution_count": 208,
     "metadata": {},
     "output_type": "execute_result"
    }
   ],
   "source": [
    "books.duplicated().sum()"
   ]
  },
  {
   "cell_type": "code",
   "execution_count": 207,
   "id": "e8fb39ba",
   "metadata": {},
   "outputs": [
    {
     "data": {
      "text/plain": [
       "0"
      ]
     },
     "execution_count": 207,
     "metadata": {},
     "output_type": "execute_result"
    }
   ],
   "source": [
    "ratings.duplicated().sum()"
   ]
  },
  {
   "cell_type": "code",
   "execution_count": 209,
   "id": "3ee0d771",
   "metadata": {},
   "outputs": [
    {
     "data": {
      "text/plain": [
       "0"
      ]
     },
     "execution_count": 209,
     "metadata": {},
     "output_type": "execute_result"
    }
   ],
   "source": [
    "users.duplicated().sum()"
   ]
  },
  {
   "cell_type": "code",
   "execution_count": 175,
   "id": "96f2cf0f",
   "metadata": {},
   "outputs": [
    {
     "data": {
      "text/plain": [
       "0     716109\n",
       "1       1770\n",
       "2       2759\n",
       "3       5996\n",
       "4       8904\n",
       "5      50974\n",
       "6      36924\n",
       "7      76457\n",
       "8     103736\n",
       "9      67541\n",
       "10     78610\n",
       "Name: Book-Rating, dtype: int64"
      ]
     },
     "execution_count": 175,
     "metadata": {},
     "output_type": "execute_result"
    }
   ],
   "source": [
    "ratings[\"Book-Rating\"].value_counts().sort_index(ascending=True)"
   ]
  },
  {
   "cell_type": "code",
   "execution_count": 176,
   "id": "5912a3e5",
   "metadata": {},
   "outputs": [
    {
     "data": {
      "text/plain": [
       "2050       2\n",
       "2038       1\n",
       "2037       1\n",
       "2030       7\n",
       "2026       1\n",
       "        ... \n",
       "1897       1\n",
       "1806       1\n",
       "1378       1\n",
       "1376       1\n",
       "0       4618\n",
       "Name: Year-Of-Publication, Length: 116, dtype: int64"
      ]
     },
     "execution_count": 176,
     "metadata": {},
     "output_type": "execute_result"
    }
   ],
   "source": [
    "books[\"Year-Of-Publication\"].value_counts().sort_index(ascending=False)"
   ]
  },
  {
   "cell_type": "code",
   "execution_count": 177,
   "id": "b01d9db6",
   "metadata": {},
   "outputs": [],
   "source": [
    "#Outlier Detection"
   ]
  },
  {
   "cell_type": "code",
   "execution_count": 178,
   "id": "5d1cbbe5",
   "metadata": {
    "scrolled": true
   },
   "outputs": [
    {
     "data": {
      "text/plain": [
       "0       4618\n",
       "1376       1\n",
       "1378       1\n",
       "1806       1\n",
       "1897       1\n",
       "1900       3\n",
       "1901       7\n",
       "1902       2\n",
       "1904       1\n",
       "1906       1\n",
       "1908       1\n",
       "1909       2\n",
       "1910       1\n",
       "1911      19\n",
       "1914       1\n",
       "1917       1\n",
       "1919       1\n",
       "1920      33\n",
       "1921       2\n",
       "1922       2\n",
       "1923      11\n",
       "1924       2\n",
       "1925       2\n",
       "1926       2\n",
       "1927       2\n",
       "1928       2\n",
       "1929       7\n",
       "1930      13\n",
       "1931       3\n",
       "Name: Year-Of-Publication, dtype: int64"
      ]
     },
     "execution_count": 178,
     "metadata": {},
     "output_type": "execute_result"
    }
   ],
   "source": [
    "books[\"Year-Of-Publication\"].value_counts()[books[\"Year-Of-Publication\"].value_counts().index<(pd.Series(books[\"Year-Of-Publication\"].value_counts().index).quantile(0.25))].sort_index()"
   ]
  },
  {
   "cell_type": "code",
   "execution_count": 179,
   "id": "8c5adabf",
   "metadata": {},
   "outputs": [
    {
     "data": {
      "text/plain": [
       "<AxesSubplot:ylabel='Count'>"
      ]
     },
     "execution_count": 179,
     "metadata": {},
     "output_type": "execute_result"
    },
    {
     "data": {
      "image/png": "[encoded data removed]",
      "text/plain": [
       "<Figure size 640x480 with 1 Axes>"
      ]
     },
     "metadata": {},
     "output_type": "display_data"
    }
   ],
   "source": [
    "sns.histplot(pd.Series(books[\"Year-Of-Publication\"].value_counts().index))"
   ]
  },
  {
   "cell_type": "code",
   "execution_count": 160,
   "id": "bf51ba11",
   "metadata": {},
   "outputs": [],
   "source": [
    "#Therefore dropping these outliers i.e. using a imputer "
   ]
  },
  {
   "cell_type": "code",
   "execution_count": 180,
   "id": "7e0c52df",
   "metadata": {
    "scrolled": true
   },
   "outputs": [],
   "source": [
    "books[\"Year-Of-Publication\"].replace({0:np.NaN},inplace=True)"
   ]
  },
  {
   "cell_type": "code",
   "execution_count": 188,
   "id": "0d4a3f83",
   "metadata": {},
   "outputs": [],
   "source": [
    "books.loc[books[\"Year-Of-Publication\"].isna(),\"Year-Of-Publication\"]=books[\"Year-Of-Publication\"].dropna().sample(n=books[\"Year-Of-Publication\"].isna().sum()).values"
   ]
  },
  {
   "cell_type": "code",
   "execution_count": 189,
   "id": "ba9d601c",
   "metadata": {},
   "outputs": [
    {
     "data": {
      "text/plain": [
       "0"
      ]
     },
     "execution_count": 189,
     "metadata": {},
     "output_type": "execute_result"
    }
   ],
   "source": [
    "books[\"Year-Of-Publication\"].isna().sum()"
   ]
  },
  {
   "cell_type": "code",
   "execution_count": null,
   "id": "7a058dab",
   "metadata": {},
   "outputs": [],
   "source": [
    "books[\"Year-Of-Publication\"]=books[\"Year-Of-Publication\"].astype(int)"
   ]
  },
  {
   "cell_type": "code",
   "execution_count": 210,
   "id": "53e346f6",
   "metadata": {},
   "outputs": [
    {
     "data": {
      "text/plain": [
       "<AxesSubplot:ylabel='Count'>"
      ]
     },
     "execution_count": 210,
     "metadata": {},
     "output_type": "execute_result"
    },
    {
     "data": {
      "image/png": "[encoded data removed]",
      "text/plain": [
       "<Figure size 640x480 with 1 Axes>"
      ]
     },
     "metadata": {},
     "output_type": "display_data"
    }
   ],
   "source": [
    "sns.histplot(pd.Series(books[\"Year-Of-Publication\"].value_counts().index))"
   ]
  },
  {
   "cell_type": "markdown",
   "id": "f12fa197",
   "metadata": {},
   "source": [
    "# POPULARITY BASED RECOMMENDATION"
   ]
  },
  {
   "cell_type": "code",
   "execution_count": 392,
   "id": "097ecbae",
   "metadata": {
    "scrolled": true
   },
   "outputs": [],
   "source": [
    "ratings_with_name=ratings.merge(books,on=\"ISBN\")"
   ]
  },
  {
   "cell_type": "code",
   "execution_count": 218,
   "id": "25766534",
   "metadata": {},
   "outputs": [
    {
     "data": {
      "text/html": [
       "<div>\n",
       "<style scoped>\n",
       "    .dataframe tbody tr th:only-of-type {\n",
       "        vertical-align: middle;\n",
       "    }\n",
       "\n",
       "    .dataframe tbody tr th {\n",
       "        vertical-align: top;\n",
       "    }\n",
       "\n",
       "    .dataframe thead th {\n",
       "        text-align: right;\n",
       "    }\n",
       "</style>\n",
       "<table border=\"1\" class=\"dataframe\">\n",
       "  <thead>\n",
       "    <tr style=\"text-align: right;\">\n",
       "      <th></th>\n",
       "      <th>Book-Title</th>\n",
       "      <th>num_ratings</th>\n",
       "    </tr>\n",
       "  </thead>\n",
       "  <tbody>\n",
       "    <tr>\n",
       "      <th>138459</th>\n",
       "      <td>Paul Gauguin</td>\n",
       "      <td>1</td>\n",
       "    </tr>\n",
       "    <tr>\n",
       "      <th>198422</th>\n",
       "      <td>The Moon King</td>\n",
       "      <td>1</td>\n",
       "    </tr>\n",
       "  </tbody>\n",
       "</table>\n",
       "</div>"
      ],
      "text/plain": [
       "           Book-Title  num_ratings\n",
       "138459   Paul Gauguin            1\n",
       "198422  The Moon King            1"
      ]
     },
     "execution_count": 218,
     "metadata": {},
     "output_type": "execute_result"
    }
   ],
   "source": [
    "No_rating_df = ratings_with_name.groupby('Book-Title').count()['Book-Rating'].reset_index()\n",
    "No_rating_df.rename(columns={'Book-Rating':'num_ratings'},inplace=True)\n",
    "No_rating_df.sample(n=2)"
   ]
  },
  {
   "cell_type": "code",
   "execution_count": 219,
   "id": "9ee38648",
   "metadata": {},
   "outputs": [
    {
     "data": {
      "text/html": [
       "<div>\n",
       "<style scoped>\n",
       "    .dataframe tbody tr th:only-of-type {\n",
       "        vertical-align: middle;\n",
       "    }\n",
       "\n",
       "    .dataframe tbody tr th {\n",
       "        vertical-align: top;\n",
       "    }\n",
       "\n",
       "    .dataframe thead th {\n",
       "        text-align: right;\n",
       "    }\n",
       "</style>\n",
       "<table border=\"1\" class=\"dataframe\">\n",
       "  <thead>\n",
       "    <tr style=\"text-align: right;\">\n",
       "      <th></th>\n",
       "      <th>Book-Title</th>\n",
       "      <th>avg_rating</th>\n",
       "    </tr>\n",
       "  </thead>\n",
       "  <tbody>\n",
       "    <tr>\n",
       "      <th>100493</th>\n",
       "      <td>Krabat. GroÃ?Â?druck. Roman.</td>\n",
       "      <td>8.0</td>\n",
       "    </tr>\n",
       "    <tr>\n",
       "      <th>13693</th>\n",
       "      <td>An Unnatural Order: Uncovering the Roots of Ou...</td>\n",
       "      <td>3.5</td>\n",
       "    </tr>\n",
       "  </tbody>\n",
       "</table>\n",
       "</div>"
      ],
      "text/plain": [
       "                                               Book-Title  avg_rating\n",
       "100493                       Krabat. GroÃ?Â?druck. Roman.         8.0\n",
       "13693   An Unnatural Order: Uncovering the Roots of Ou...         3.5"
      ]
     },
     "execution_count": 219,
     "metadata": {},
     "output_type": "execute_result"
    }
   ],
   "source": [
    "mean_rating_df = ratings_with_name.groupby('Book-Title').mean()['Book-Rating'].reset_index()\n",
    "mean_rating_df.rename(columns={'Book-Rating':'avg_rating'},inplace=True)\n",
    "mean_rating_df.sample(n=2)"
   ]
  },
  {
   "cell_type": "code",
   "execution_count": 240,
   "id": "9425e369",
   "metadata": {},
   "outputs": [],
   "source": [
    "lst=np.array(No_rating_df.sort_values(by='num_ratings',ascending=False)['num_ratings'].index)[0:10]"
   ]
  },
  {
   "cell_type": "code",
   "execution_count": 241,
   "id": "7da98fb7",
   "metadata": {},
   "outputs": [
    {
     "data": {
      "text/plain": [
       "<BarContainer object of 10 artists>"
      ]
     },
     "execution_count": 241,
     "metadata": {},
     "output_type": "execute_result"
    },
    {
     "data": {
      "image/png": "[encoded data removed]",
      "text/plain": [
       "<Figure size 640x480 with 1 Axes>"
      ]
     },
     "metadata": {},
     "output_type": "display_data"
    }
   ],
   "source": [
    "plt.barh(No_rating_df.loc[lst,'Book-Title'],No_rating_df.loc[lst,\"num_ratings\"])"
   ]
  },
  {
   "cell_type": "code",
   "execution_count": 242,
   "id": "7ebb128e",
   "metadata": {},
   "outputs": [],
   "source": [
    "lst_1=np.array(mean_rating_df.sort_values(by='avg_rating',ascending=False)['avg_rating'].index)[0:10]"
   ]
  },
  {
   "cell_type": "code",
   "execution_count": 243,
   "id": "bdff0248",
   "metadata": {},
   "outputs": [
    {
     "data": {
      "text/plain": [
       "<BarContainer object of 10 artists>"
      ]
     },
     "execution_count": 243,
     "metadata": {},
     "output_type": "execute_result"
    },
    {
     "data": {
      "image/png": "[encoded data removed]",
      "text/plain": [
       "<Figure size 640x480 with 1 Axes>"
      ]
     },
     "metadata": {},
     "output_type": "display_data"
    }
   ],
   "source": [
    "plt.barh(mean_rating_df.loc[lst_1,'Book-Title'],mean_rating_df.loc[lst_1,\"avg_rating\"])"
   ]
  },
  {
   "cell_type": "code",
   "execution_count": 250,
   "id": "029fae63",
   "metadata": {},
   "outputs": [],
   "source": [
    "merged_df_popularity=No_rating_df.merge(mean_rating_df,on='Book-Title')"
   ]
  },
  {
   "cell_type": "code",
   "execution_count": 372,
   "id": "d3d4db97",
   "metadata": {
    "scrolled": true
   },
   "outputs": [],
   "source": [
    "def find_recommendations():\n",
    "    mi=0.9991\n",
    "    ma=0\n",
    "    for i in range(6):\n",
    "        mi=np.round(mi,4)\n",
    "        print(\"Ratings = {} \\nwhere quantile value = {}\".format(merged_df_popularity[\"num_ratings\"].quantile(mi),mi))\n",
    "        no_of_books=len(merged_df_popularity[merged_df_popularity[\"num_ratings\"]>=merged_df_popularity[\"num_ratings\"].quantile(mi)])\n",
    "        print(\"Number  of Popular recommendations = {}\".format(no_of_books))\n",
    "        print(\"\\n\")\n",
    "        if(no_of_books>=100):\n",
    "            ma=mi     \n",
    "        mi+=0.0001\n",
    "    print(\"ma = {}\".format(ma))\n",
    "    ma+=0.00009\n",
    "    print(\"\\n\")\n",
    "    ans=0\n",
    "    n_recommendations=0\n",
    "    rating_val=0\n",
    "    for i in range(9):\n",
    "        ma=np.round(ma,5)\n",
    "        print(\"Ratings = {} \\nwhere quantile value = {}\".format(merged_df_popularity[\"num_ratings\"].quantile(ma),ma))\n",
    "        no_of_recommendations=len(merged_df_popularity[merged_df_popularity[\"num_ratings\"]>=int(merged_df_popularity[\"num_ratings\"].quantile(ma))])\n",
    "        print(\"Number  of Popular recommendations = {}\".format(no_of_recommendations))\n",
    "        if(no_of_recommendations<=100):\n",
    "            n_recommendations=no_of_recommendations\n",
    "            rating_val=int(merged_df_popularity[\"num_ratings\"].quantile(ma))\n",
    "            ans=ma\n",
    "        print(\"\\n\")\n",
    "        ma-=0.00001\n",
    "        \n",
    "    return ans,rating_val,n_recommendations    "
   ]
  },
  {
   "cell_type": "code",
   "execution_count": 373,
   "id": "ab427cab",
   "metadata": {
    "scrolled": true
   },
   "outputs": [
    {
     "name": "stdout",
     "output_type": "stream",
     "text": [
      "Ratings = 230.0 \n",
      "where quantile value = 0.9991\n",
      "Number  of Popular recommendations = 219\n",
      "\n",
      "\n",
      "Ratings = 247.1479999999865 \n",
      "where quantile value = 0.9992\n",
      "Number  of Popular recommendations = 193\n",
      "\n",
      "\n",
      "Ratings = 262.0 \n",
      "where quantile value = 0.9993\n",
      "Number  of Popular recommendations = 170\n",
      "\n",
      "\n",
      "Ratings = 276.0 \n",
      "where quantile value = 0.9994\n",
      "Number  of Popular recommendations = 146\n",
      "\n",
      "\n",
      "Ratings = 298.46749999999884 \n",
      "where quantile value = 0.9995\n",
      "Number  of Popular recommendations = 121\n",
      "\n",
      "\n",
      "Ratings = 326.57400000002235 \n",
      "where quantile value = 0.9996\n",
      "Number  of Popular recommendations = 97\n",
      "\n",
      "\n",
      "ma = 0.9995\n",
      "\n",
      "\n",
      "Ratings = 322.65339999995194 \n",
      "where quantile value = 0.99959\n",
      "Number  of Popular recommendations = 100\n",
      "\n",
      "\n",
      "Ratings = 318.7527000000118 \n",
      "where quantile value = 0.99958\n",
      "Number  of Popular recommendations = 104\n",
      "\n",
      "\n",
      "Ratings = 315.36819999990985 \n",
      "where quantile value = 0.99957\n",
      "Number  of Popular recommendations = 104\n",
      "\n",
      "\n",
      "Ratings = 312.0 \n",
      "where quantile value = 0.99956\n",
      "Number  of Popular recommendations = 108\n",
      "\n",
      "\n",
      "Ratings = 311.0 \n",
      "where quantile value = 0.99955\n",
      "Number  of Popular recommendations = 111\n",
      "\n",
      "\n",
      "Ratings = 309.22019999998156 \n",
      "where quantile value = 0.99954\n",
      "Number  of Popular recommendations = 112\n",
      "\n",
      "\n",
      "Ratings = 304.0 \n",
      "where quantile value = 0.99953\n",
      "Number  of Popular recommendations = 116\n",
      "\n",
      "\n",
      "Ratings = 302.5775999999605 \n",
      "where quantile value = 0.99952\n",
      "Number  of Popular recommendations = 118\n",
      "\n",
      "\n",
      "Ratings = 301.0 \n",
      "where quantile value = 0.99951\n",
      "Number  of Popular recommendations = 120\n",
      "\n",
      "\n"
     ]
    }
   ],
   "source": [
    "percentile_val,rating,no_of_recommendations=find_recommendations()"
   ]
  },
  {
   "cell_type": "code",
   "execution_count": 374,
   "id": "999fcc20",
   "metadata": {},
   "outputs": [
    {
     "data": {
      "text/plain": [
       "322"
      ]
     },
     "execution_count": 374,
     "metadata": {},
     "output_type": "execute_result"
    }
   ],
   "source": [
    "rating#==int(merged_df_popularity[\"num_ratings\"].quantile(percentile_val))"
   ]
  },
  {
   "cell_type": "code",
   "execution_count": 388,
   "id": "811b56d1",
   "metadata": {
    "scrolled": true
   },
   "outputs": [],
   "source": [
    "tem=merged_df_popularity[merged_df_popularity[\"num_ratings\"]>=rating].sort_values(by=['avg_rating','num_ratings'],ascending=False)"
   ]
  },
  {
   "cell_type": "code",
   "execution_count": 397,
   "id": "6ff5b0a6",
   "metadata": {},
   "outputs": [
    {
     "data": {
      "text/html": [
       "<div>\n",
       "<style scoped>\n",
       "    .dataframe tbody tr th:only-of-type {\n",
       "        vertical-align: middle;\n",
       "    }\n",
       "\n",
       "    .dataframe tbody tr th {\n",
       "        vertical-align: top;\n",
       "    }\n",
       "\n",
       "    .dataframe thead th {\n",
       "        text-align: right;\n",
       "    }\n",
       "</style>\n",
       "<table border=\"1\" class=\"dataframe\">\n",
       "  <thead>\n",
       "    <tr style=\"text-align: right;\">\n",
       "      <th></th>\n",
       "      <th>Book-Title</th>\n",
       "      <th>Book-Author</th>\n",
       "      <th>num_ratings</th>\n",
       "      <th>avg_rating</th>\n",
       "      <th>Image-URL-M</th>\n",
       "    </tr>\n",
       "  </thead>\n",
       "  <tbody>\n",
       "    <tr>\n",
       "      <th>0</th>\n",
       "      <td>Harry Potter and the Prisoner of Azkaban (Book 3)</td>\n",
       "      <td>J. K. Rowling</td>\n",
       "      <td>428</td>\n",
       "      <td>5.852804</td>\n",
       "      <td>http://images.amazon.com/images/P/0439136350.0...</td>\n",
       "    </tr>\n",
       "    <tr>\n",
       "      <th>3</th>\n",
       "      <td>Harry Potter and the Goblet of Fire (Book 4)</td>\n",
       "      <td>J. K. Rowling</td>\n",
       "      <td>387</td>\n",
       "      <td>5.824289</td>\n",
       "      <td>http://images.amazon.com/images/P/0439139597.0...</td>\n",
       "    </tr>\n",
       "    <tr>\n",
       "      <th>5</th>\n",
       "      <td>Harry Potter and the Order of the Phoenix (Boo...</td>\n",
       "      <td>J. K. Rowling</td>\n",
       "      <td>347</td>\n",
       "      <td>5.501441</td>\n",
       "      <td>http://images.amazon.com/images/P/043935806X.0...</td>\n",
       "    </tr>\n",
       "    <tr>\n",
       "      <th>9</th>\n",
       "      <td>Harry Potter and the Chamber of Secrets (Book 2)</td>\n",
       "      <td>J. K. Rowling</td>\n",
       "      <td>556</td>\n",
       "      <td>5.183453</td>\n",
       "      <td>http://images.amazon.com/images/P/0439064872.0...</td>\n",
       "    </tr>\n",
       "    <tr>\n",
       "      <th>12</th>\n",
       "      <td>The Fellowship of the Ring (The Lord of the Ri...</td>\n",
       "      <td>J.R.R. TOLKIEN</td>\n",
       "      <td>368</td>\n",
       "      <td>4.948370</td>\n",
       "      <td>http://images.amazon.com/images/P/0345339703.0...</td>\n",
       "    </tr>\n",
       "    <tr>\n",
       "      <th>...</th>\n",
       "      <td>...</td>\n",
       "      <td>...</td>\n",
       "      <td>...</td>\n",
       "      <td>...</td>\n",
       "      <td>...</td>\n",
       "    </tr>\n",
       "    <tr>\n",
       "      <th>407</th>\n",
       "      <td>The Pelican Brief</td>\n",
       "      <td>John Grisham</td>\n",
       "      <td>581</td>\n",
       "      <td>2.611015</td>\n",
       "      <td>http://images.amazon.com/images/P/0440214041.0...</td>\n",
       "    </tr>\n",
       "    <tr>\n",
       "      <th>410</th>\n",
       "      <td>While I Was Gone</td>\n",
       "      <td>Sue Miller</td>\n",
       "      <td>431</td>\n",
       "      <td>2.580046</td>\n",
       "      <td>http://images.amazon.com/images/P/0345443284.0...</td>\n",
       "    </tr>\n",
       "    <tr>\n",
       "      <th>414</th>\n",
       "      <td>The Perfect Storm : A True Story of Men Agains...</td>\n",
       "      <td>Sebastian Junger</td>\n",
       "      <td>404</td>\n",
       "      <td>2.539604</td>\n",
       "      <td>http://images.amazon.com/images/P/0060977477.0...</td>\n",
       "    </tr>\n",
       "    <tr>\n",
       "      <th>417</th>\n",
       "      <td>A Map of the World</td>\n",
       "      <td>Jane Hamilton</td>\n",
       "      <td>327</td>\n",
       "      <td>2.492355</td>\n",
       "      <td>http://images.amazon.com/images/P/0385500769.0...</td>\n",
       "    </tr>\n",
       "    <tr>\n",
       "      <th>420</th>\n",
       "      <td>Wild Animus</td>\n",
       "      <td>Rich Shapero</td>\n",
       "      <td>2502</td>\n",
       "      <td>1.019584</td>\n",
       "      <td>http://images.amazon.com/images/P/0971880107.0...</td>\n",
       "    </tr>\n",
       "  </tbody>\n",
       "</table>\n",
       "<p>100 rows × 5 columns</p>\n",
       "</div>"
      ],
      "text/plain": [
       "                                            Book-Title       Book-Author  \\\n",
       "0    Harry Potter and the Prisoner of Azkaban (Book 3)     J. K. Rowling   \n",
       "3         Harry Potter and the Goblet of Fire (Book 4)     J. K. Rowling   \n",
       "5    Harry Potter and the Order of the Phoenix (Boo...     J. K. Rowling   \n",
       "9     Harry Potter and the Chamber of Secrets (Book 2)     J. K. Rowling   \n",
       "12   The Fellowship of the Ring (The Lord of the Ri...    J.R.R. TOLKIEN   \n",
       "..                                                 ...               ...   \n",
       "407                                  The Pelican Brief      John Grisham   \n",
       "410                                   While I Was Gone        Sue Miller   \n",
       "414  The Perfect Storm : A True Story of Men Agains...  Sebastian Junger   \n",
       "417                                 A Map of the World     Jane Hamilton   \n",
       "420                                        Wild Animus      Rich Shapero   \n",
       "\n",
       "     num_ratings  avg_rating  \\\n",
       "0            428    5.852804   \n",
       "3            387    5.824289   \n",
       "5            347    5.501441   \n",
       "9            556    5.183453   \n",
       "12           368    4.948370   \n",
       "..           ...         ...   \n",
       "407          581    2.611015   \n",
       "410          431    2.580046   \n",
       "414          404    2.539604   \n",
       "417          327    2.492355   \n",
       "420         2502    1.019584   \n",
       "\n",
       "                                           Image-URL-M  \n",
       "0    http://images.amazon.com/images/P/0439136350.0...  \n",
       "3    http://images.amazon.com/images/P/0439139597.0...  \n",
       "5    http://images.amazon.com/images/P/043935806X.0...  \n",
       "9    http://images.amazon.com/images/P/0439064872.0...  \n",
       "12   http://images.amazon.com/images/P/0345339703.0...  \n",
       "..                                                 ...  \n",
       "407  http://images.amazon.com/images/P/0440214041.0...  \n",
       "410  http://images.amazon.com/images/P/0345443284.0...  \n",
       "414  http://images.amazon.com/images/P/0060977477.0...  \n",
       "417  http://images.amazon.com/images/P/0385500769.0...  \n",
       "420  http://images.amazon.com/images/P/0971880107.0...  \n",
       "\n",
       "[100 rows x 5 columns]"
      ]
     },
     "execution_count": 397,
     "metadata": {},
     "output_type": "execute_result"
    }
   ],
   "source": [
    "tem.merge(books,on='Book-Title').drop_duplicates('Book-Title')[['Book-Title','Book-Author','num_ratings','avg_rating','Image-URL-M']]"
   ]
  },
  {
   "cell_type": "code",
   "execution_count": 629,
   "id": "d555fbcd",
   "metadata": {},
   "outputs": [],
   "source": [
    "popular_df=tem.merge(books,on='Book-Title').drop_duplicates('Book-Title')[['Book-Title','Book-Author','num_ratings','avg_rating','Image-URL-M']]"
   ]
  },
  {
   "cell_type": "markdown",
   "id": "95955110",
   "metadata": {},
   "source": []
  },
  {
   "cell_type": "code",
   "execution_count": 386,
   "id": "20aa3742",
   "metadata": {},
   "outputs": [],
   "source": [
    "# COLLABORATIVE FILTERING"
   ]
  },
  {
   "cell_type": "code",
   "execution_count": 462,
   "id": "0afd988d",
   "metadata": {},
   "outputs": [],
   "source": [
    "q_val=0.988\n",
    "dictionary={}\n",
    "for i in range(10):\n",
    "    num_users=int(ratings_with_name.groupby('User-ID').count().rename(columns={'Book-Rating':\"count\"})['count'].quantile(q_val))\n",
    "    if(((num_users>=150)&(num_users<=250))):\n",
    "        dictionary[q_val]=num_users\n",
    "    q_val+=0.001"
   ]
  },
  {
   "cell_type": "code",
   "execution_count": 476,
   "id": "fae77e62",
   "metadata": {},
   "outputs": [
    {
     "name": "stdout",
     "output_type": "stream",
     "text": [
      "[1110, 1018, 923, 830, 738, 647]\n"
     ]
    }
   ],
   "source": [
    "lst_3=[]\n",
    "for i,j in dictionary.items():\n",
    "    t=ratings_with_name.groupby('User-ID').count()['Book-Rating']>=j\n",
    "    #print(j)\n",
    "    #print(len(t[t]))\n",
    "    lst_3.append(len(t[t]))\n",
    "print(lst_3)"
   ]
  },
  {
   "cell_type": "code",
   "execution_count": 490,
   "id": "5675189e",
   "metadata": {},
   "outputs": [
    {
     "data": {
      "text/plain": [
       "193.0"
      ]
     },
     "execution_count": 490,
     "metadata": {},
     "output_type": "execute_result"
    }
   ],
   "source": [
    "np.ceil(np.mean(list(dictionary.values())))"
   ]
  },
  {
   "cell_type": "code",
   "execution_count": 521,
   "id": "69735d87",
   "metadata": {},
   "outputs": [],
   "source": [
    "def good_readers(df,review_count):\n",
    "    x=df.groupby('User-ID').count().rename(columns={'Book-Rating':'count'})['count']>=review_count\n",
    "    print(\"Number of good book readers i.e who atleast gave {} reviews = {}\".format(review_count,len(x[x])))\n",
    "    return x[x].index"
   ]
  },
  {
   "cell_type": "code",
   "execution_count": 522,
   "id": "db97edf3",
   "metadata": {},
   "outputs": [
    {
     "name": "stdout",
     "output_type": "stream",
     "text": [
      "Number of good book readers i.e who atleast gave 193 reviews = 848\n"
     ]
    }
   ],
   "source": [
    "x=good_readers(ratings_with_name,193)"
   ]
  },
  {
   "cell_type": "code",
   "execution_count": 523,
   "id": "8b8074f8",
   "metadata": {},
   "outputs": [
    {
     "name": "stdout",
     "output_type": "stream",
     "text": [
      "Number of good book readers i.e who atleast gave 197 reviews = 830\n"
     ]
    }
   ],
   "source": [
    "x_1=good_readers(ratings_with_name,197)"
   ]
  },
  {
   "cell_type": "code",
   "execution_count": 524,
   "id": "7d5d1d30",
   "metadata": {},
   "outputs": [
    {
     "name": "stdout",
     "output_type": "stream",
     "text": [
      "Number of good book readers i.e who atleast gave 200 reviews = 816\n"
     ]
    }
   ],
   "source": [
    "x_2=good_readers(ratings_with_name,200)"
   ]
  },
  {
   "cell_type": "code",
   "execution_count": 528,
   "id": "a86300fe",
   "metadata": {},
   "outputs": [],
   "source": [
    "filtered_rating=ratings_with_name[ratings_with_name['User-ID'].isin(x_2)]"
   ]
  },
  {
   "cell_type": "code",
   "execution_count": 529,
   "id": "a82ce6a6",
   "metadata": {},
   "outputs": [],
   "source": [
    "filtered_rating_1=ratings_with_name[ratings_with_name['User-ID'].isin(x_1)]"
   ]
  },
  {
   "cell_type": "code",
   "execution_count": 531,
   "id": "6b84391b",
   "metadata": {},
   "outputs": [],
   "source": [
    "filtered_rating_2=ratings_with_name[ratings_with_name['User-ID'].isin(x)]"
   ]
  },
  {
   "cell_type": "code",
   "execution_count": 579,
   "id": "bf39e835",
   "metadata": {},
   "outputs": [],
   "source": [
    "def min_reviews_per_book(df):\n",
    "    score_dict={}\n",
    "    s_val=0.995\n",
    "    for i in range(10): # Minimum No Of Ratings Per Book\n",
    "        s_val=np.round(s_val,4)\n",
    "        num=df.groupby('Book-Title').count().rename(columns={'Book-Rating':\"count\"})['count'].quantile(s_val)\n",
    "        score_dict[s_val]=np.ceil(num)\n",
    "        s_val+=0.0001\n",
    "    score_lst=[]\n",
    "    for i,j in score_dict.items(): #Number Of Such Books\n",
    "        y=df.groupby('Book-Title').count().rename(columns={'Book-Rating':\"count\"})['count']>j\n",
    "        #print(j)\n",
    "        #print(len(y[y]))\n",
    "        score_lst.append(len(y[y]))\n",
    "    print(score_lst)\n",
    "    print(\"\\n\")\n",
    "    print(\"Average Number of Books =\",end=\" \")\n",
    "    print(np.mean(score_lst))\n",
    "    return score_dict,score_lst"
   ]
  },
  {
   "cell_type": "code",
   "execution_count": 589,
   "id": "8308bdb5",
   "metadata": {},
   "outputs": [
    {
     "name": "stdout",
     "output_type": "stream",
     "text": [
      "[762, 762, 729, 729, 705, 705, 683, 653, 653, 627]\n",
      "\n",
      "\n",
      "Average Number of Books = 700.8\n",
      "{0.995: 48.0, 0.9951: 48.0, 0.9952: 49.0, 0.9953: 49.0, 0.9954: 50.0, 0.9955: 50.0, 0.9956: 51.0, 0.9957: 52.0, 0.9958: 52.0, 0.9959: 53.0}\n",
      "\n",
      "\n",
      "Minimum Number of reviews per Book = 51.0\n"
     ]
    }
   ],
   "source": [
    "d,l=min_reviews_per_book(filtered_rating_2) # ------->[User-Id]= x\n",
    "print(d)\n",
    "print(\"\\n\")\n",
    "val=np.ceil(np.mean(list(d.values()))) #\n",
    "print(\"Minimum Number of reviews per Book = {}\".format(val))"
   ]
  },
  {
   "cell_type": "code",
   "execution_count": 586,
   "id": "b3c23d89",
   "metadata": {},
   "outputs": [],
   "source": [
    "#d_1,l_1=min_reviews_per_book(filtered_rating_1)\n",
    "#print(d_1)\n",
    "#print(\"Minimum Number of reviews per Book = {}\".format(np.ceil(np.mean(list(d_1.values())))))\n",
    "\n",
    "#[747, 747, 747, 714, 714, 693, 668, 668, 643, 617]\n",
    "\n",
    "#Average Number of Books = 695.8\n",
    "#{0.995: 48.0, 0.9951: 48.0, 0.9952: 48.0, 0.9953: 49.0, 0.9954: 49.0, 0.9955: 50.0, 0.9956: 51.0, 0.9957: 51.0, 0.9958: 52.0, 0.9959: 53.0}\n",
    "#Minimum Number of reviews per Book = 50.0"
   ]
  },
  {
   "cell_type": "code",
   "execution_count": 587,
   "id": "953426ff",
   "metadata": {},
   "outputs": [],
   "source": [
    "#d_2,l_2=min_reviews_per_book(filtered_rating)\n",
    "#print(d_2)\n",
    "#print(\"Minimum Number of reviews per Book = {}\".format(np.ceil(np.mean(list(d_2.values())))))\n",
    "\n",
    "#[773, 736, 736, 707, 707, 683, 683, 660, 637, 637]\n",
    "\n",
    "#Average Number of Books = 695.9\n",
    "#{0.995: 47.0, 0.9951: 48.0, 0.9952: 48.0, 0.9953: 49.0, 0.9954: 49.0, 0.9955: 50.0, 0.9956: 50.0, 0.9957: 51.0, 0.9958: 52.0, 0.9959: 52.0}\n",
    "#Minimum Number of reviews per Book = 50.0"
   ]
  },
  {
   "cell_type": "code",
   "execution_count": 602,
   "id": "a8400ebe",
   "metadata": {},
   "outputs": [],
   "source": [
    "def famous_books_list(df,value):\n",
    "    y=df.groupby('Book-Title').count().rename(columns={'Book-Rating':'count'})['count']>value\n",
    "    print(\"Number Of Books having Atleast {} Reviews per Book = {} \".format(int(value),len(y[y])))\n",
    "    return y[y].index"
   ]
  },
  {
   "cell_type": "code",
   "execution_count": 603,
   "id": "3eb8db98",
   "metadata": {},
   "outputs": [
    {
     "name": "stdout",
     "output_type": "stream",
     "text": [
      "Number Of Books having Atleast 51 Reviews per Book = 683 \n"
     ]
    }
   ],
   "source": [
    "famous_books=famous_books_list(filtered_rating_2,val)"
   ]
  },
  {
   "cell_type": "code",
   "execution_count": 604,
   "id": "41d5ee3a",
   "metadata": {},
   "outputs": [],
   "source": [
    "final_ratings=filtered_rating_2[filtered_rating_2['Book-Title'].isin(famous_books)]"
   ]
  },
  {
   "cell_type": "code",
   "execution_count": 605,
   "id": "56b46528",
   "metadata": {},
   "outputs": [
    {
     "data": {
      "text/html": [
       "<div>\n",
       "<style scoped>\n",
       "    .dataframe tbody tr th:only-of-type {\n",
       "        vertical-align: middle;\n",
       "    }\n",
       "\n",
       "    .dataframe tbody tr th {\n",
       "        vertical-align: top;\n",
       "    }\n",
       "\n",
       "    .dataframe thead th {\n",
       "        text-align: right;\n",
       "    }\n",
       "</style>\n",
       "<table border=\"1\" class=\"dataframe\">\n",
       "  <thead>\n",
       "    <tr style=\"text-align: right;\">\n",
       "      <th></th>\n",
       "      <th>User-ID</th>\n",
       "      <th>ISBN</th>\n",
       "      <th>Book-Rating</th>\n",
       "      <th>Book-Title</th>\n",
       "      <th>Book-Author</th>\n",
       "      <th>Year-Of-Publication</th>\n",
       "      <th>Publisher</th>\n",
       "      <th>Image-URL-S</th>\n",
       "      <th>Image-URL-M</th>\n",
       "      <th>Image-URL-L</th>\n",
       "    </tr>\n",
       "  </thead>\n",
       "  <tbody>\n",
       "    <tr>\n",
       "      <th>63</th>\n",
       "      <td>278418</td>\n",
       "      <td>0446520802</td>\n",
       "      <td>0</td>\n",
       "      <td>The Notebook</td>\n",
       "      <td>Nicholas Sparks</td>\n",
       "      <td>1996.0</td>\n",
       "      <td>Warner Books</td>\n",
       "      <td>http://images.amazon.com/images/P/0446520802.0...</td>\n",
       "      <td>http://images.amazon.com/images/P/0446520802.0...</td>\n",
       "      <td>http://images.amazon.com/images/P/0446520802.0...</td>\n",
       "    </tr>\n",
       "    <tr>\n",
       "      <th>65</th>\n",
       "      <td>3363</td>\n",
       "      <td>0446520802</td>\n",
       "      <td>0</td>\n",
       "      <td>The Notebook</td>\n",
       "      <td>Nicholas Sparks</td>\n",
       "      <td>1996.0</td>\n",
       "      <td>Warner Books</td>\n",
       "      <td>http://images.amazon.com/images/P/0446520802.0...</td>\n",
       "      <td>http://images.amazon.com/images/P/0446520802.0...</td>\n",
       "      <td>http://images.amazon.com/images/P/0446520802.0...</td>\n",
       "    </tr>\n",
       "    <tr>\n",
       "      <th>66</th>\n",
       "      <td>7158</td>\n",
       "      <td>0446520802</td>\n",
       "      <td>10</td>\n",
       "      <td>The Notebook</td>\n",
       "      <td>Nicholas Sparks</td>\n",
       "      <td>1996.0</td>\n",
       "      <td>Warner Books</td>\n",
       "      <td>http://images.amazon.com/images/P/0446520802.0...</td>\n",
       "      <td>http://images.amazon.com/images/P/0446520802.0...</td>\n",
       "      <td>http://images.amazon.com/images/P/0446520802.0...</td>\n",
       "    </tr>\n",
       "    <tr>\n",
       "      <th>69</th>\n",
       "      <td>11676</td>\n",
       "      <td>0446520802</td>\n",
       "      <td>10</td>\n",
       "      <td>The Notebook</td>\n",
       "      <td>Nicholas Sparks</td>\n",
       "      <td>1996.0</td>\n",
       "      <td>Warner Books</td>\n",
       "      <td>http://images.amazon.com/images/P/0446520802.0...</td>\n",
       "      <td>http://images.amazon.com/images/P/0446520802.0...</td>\n",
       "      <td>http://images.amazon.com/images/P/0446520802.0...</td>\n",
       "    </tr>\n",
       "    <tr>\n",
       "      <th>74</th>\n",
       "      <td>23768</td>\n",
       "      <td>0446520802</td>\n",
       "      <td>6</td>\n",
       "      <td>The Notebook</td>\n",
       "      <td>Nicholas Sparks</td>\n",
       "      <td>1996.0</td>\n",
       "      <td>Warner Books</td>\n",
       "      <td>http://images.amazon.com/images/P/0446520802.0...</td>\n",
       "      <td>http://images.amazon.com/images/P/0446520802.0...</td>\n",
       "      <td>http://images.amazon.com/images/P/0446520802.0...</td>\n",
       "    </tr>\n",
       "    <tr>\n",
       "      <th>...</th>\n",
       "      <td>...</td>\n",
       "      <td>...</td>\n",
       "      <td>...</td>\n",
       "      <td>...</td>\n",
       "      <td>...</td>\n",
       "      <td>...</td>\n",
       "      <td>...</td>\n",
       "      <td>...</td>\n",
       "      <td>...</td>\n",
       "      <td>...</td>\n",
       "    </tr>\n",
       "    <tr>\n",
       "      <th>1027916</th>\n",
       "      <td>269566</td>\n",
       "      <td>0670809381</td>\n",
       "      <td>0</td>\n",
       "      <td>Echoes</td>\n",
       "      <td>Maeve Binchy</td>\n",
       "      <td>1986.0</td>\n",
       "      <td>Penguin USA</td>\n",
       "      <td>http://images.amazon.com/images/P/0670809381.0...</td>\n",
       "      <td>http://images.amazon.com/images/P/0670809381.0...</td>\n",
       "      <td>http://images.amazon.com/images/P/0670809381.0...</td>\n",
       "    </tr>\n",
       "    <tr>\n",
       "      <th>1028770</th>\n",
       "      <td>271284</td>\n",
       "      <td>0440910927</td>\n",
       "      <td>0</td>\n",
       "      <td>The Rainmaker</td>\n",
       "      <td>John Grisham</td>\n",
       "      <td>1995.0</td>\n",
       "      <td>Island</td>\n",
       "      <td>http://images.amazon.com/images/P/0440910927.0...</td>\n",
       "      <td>http://images.amazon.com/images/P/0440910927.0...</td>\n",
       "      <td>http://images.amazon.com/images/P/0440910927.0...</td>\n",
       "    </tr>\n",
       "    <tr>\n",
       "      <th>1029063</th>\n",
       "      <td>271705</td>\n",
       "      <td>B0001PIOX4</td>\n",
       "      <td>0</td>\n",
       "      <td>Fahrenheit 451</td>\n",
       "      <td>Ray Bradbury</td>\n",
       "      <td>1993.0</td>\n",
       "      <td>Simon &amp;amp; Schuster</td>\n",
       "      <td>http://images.amazon.com/images/P/B0001PIOX4.0...</td>\n",
       "      <td>http://images.amazon.com/images/P/B0001PIOX4.0...</td>\n",
       "      <td>http://images.amazon.com/images/P/B0001PIOX4.0...</td>\n",
       "    </tr>\n",
       "    <tr>\n",
       "      <th>1030356</th>\n",
       "      <td>274808</td>\n",
       "      <td>0449701913</td>\n",
       "      <td>0</td>\n",
       "      <td>Homecoming</td>\n",
       "      <td>Cynthia Voigt</td>\n",
       "      <td>1983.0</td>\n",
       "      <td>Fawcett Books</td>\n",
       "      <td>http://images.amazon.com/images/P/0449701913.0...</td>\n",
       "      <td>http://images.amazon.com/images/P/0449701913.0...</td>\n",
       "      <td>http://images.amazon.com/images/P/0449701913.0...</td>\n",
       "    </tr>\n",
       "    <tr>\n",
       "      <th>1030861</th>\n",
       "      <td>275970</td>\n",
       "      <td>1586210661</td>\n",
       "      <td>9</td>\n",
       "      <td>Me Talk Pretty One Day</td>\n",
       "      <td>David Sedaris</td>\n",
       "      <td>2001.0</td>\n",
       "      <td>Time Warner Audio Major</td>\n",
       "      <td>http://images.amazon.com/images/P/1586210661.0...</td>\n",
       "      <td>http://images.amazon.com/images/P/1586210661.0...</td>\n",
       "      <td>http://images.amazon.com/images/P/1586210661.0...</td>\n",
       "    </tr>\n",
       "  </tbody>\n",
       "</table>\n",
       "<p>58497 rows × 10 columns</p>\n",
       "</div>"
      ],
      "text/plain": [
       "         User-ID        ISBN  Book-Rating              Book-Title  \\\n",
       "63        278418  0446520802            0            The Notebook   \n",
       "65          3363  0446520802            0            The Notebook   \n",
       "66          7158  0446520802           10            The Notebook   \n",
       "69         11676  0446520802           10            The Notebook   \n",
       "74         23768  0446520802            6            The Notebook   \n",
       "...          ...         ...          ...                     ...   \n",
       "1027916   269566  0670809381            0                  Echoes   \n",
       "1028770   271284  0440910927            0           The Rainmaker   \n",
       "1029063   271705  B0001PIOX4            0          Fahrenheit 451   \n",
       "1030356   274808  0449701913            0              Homecoming   \n",
       "1030861   275970  1586210661            9  Me Talk Pretty One Day   \n",
       "\n",
       "             Book-Author  Year-Of-Publication                Publisher  \\\n",
       "63       Nicholas Sparks               1996.0             Warner Books   \n",
       "65       Nicholas Sparks               1996.0             Warner Books   \n",
       "66       Nicholas Sparks               1996.0             Warner Books   \n",
       "69       Nicholas Sparks               1996.0             Warner Books   \n",
       "74       Nicholas Sparks               1996.0             Warner Books   \n",
       "...                  ...                  ...                      ...   \n",
       "1027916     Maeve Binchy               1986.0              Penguin USA   \n",
       "1028770     John Grisham               1995.0                   Island   \n",
       "1029063     Ray Bradbury               1993.0     Simon &amp; Schuster   \n",
       "1030356    Cynthia Voigt               1983.0            Fawcett Books   \n",
       "1030861    David Sedaris               2001.0  Time Warner Audio Major   \n",
       "\n",
       "                                               Image-URL-S  \\\n",
       "63       http://images.amazon.com/images/P/0446520802.0...   \n",
       "65       http://images.amazon.com/images/P/0446520802.0...   \n",
       "66       http://images.amazon.com/images/P/0446520802.0...   \n",
       "69       http://images.amazon.com/images/P/0446520802.0...   \n",
       "74       http://images.amazon.com/images/P/0446520802.0...   \n",
       "...                                                    ...   \n",
       "1027916  http://images.amazon.com/images/P/0670809381.0...   \n",
       "1028770  http://images.amazon.com/images/P/0440910927.0...   \n",
       "1029063  http://images.amazon.com/images/P/B0001PIOX4.0...   \n",
       "1030356  http://images.amazon.com/images/P/0449701913.0...   \n",
       "1030861  http://images.amazon.com/images/P/1586210661.0...   \n",
       "\n",
       "                                               Image-URL-M  \\\n",
       "63       http://images.amazon.com/images/P/0446520802.0...   \n",
       "65       http://images.amazon.com/images/P/0446520802.0...   \n",
       "66       http://images.amazon.com/images/P/0446520802.0...   \n",
       "69       http://images.amazon.com/images/P/0446520802.0...   \n",
       "74       http://images.amazon.com/images/P/0446520802.0...   \n",
       "...                                                    ...   \n",
       "1027916  http://images.amazon.com/images/P/0670809381.0...   \n",
       "1028770  http://images.amazon.com/images/P/0440910927.0...   \n",
       "1029063  http://images.amazon.com/images/P/B0001PIOX4.0...   \n",
       "1030356  http://images.amazon.com/images/P/0449701913.0...   \n",
       "1030861  http://images.amazon.com/images/P/1586210661.0...   \n",
       "\n",
       "                                               Image-URL-L  \n",
       "63       http://images.amazon.com/images/P/0446520802.0...  \n",
       "65       http://images.amazon.com/images/P/0446520802.0...  \n",
       "66       http://images.amazon.com/images/P/0446520802.0...  \n",
       "69       http://images.amazon.com/images/P/0446520802.0...  \n",
       "74       http://images.amazon.com/images/P/0446520802.0...  \n",
       "...                                                    ...  \n",
       "1027916  http://images.amazon.com/images/P/0670809381.0...  \n",
       "1028770  http://images.amazon.com/images/P/0440910927.0...  \n",
       "1029063  http://images.amazon.com/images/P/B0001PIOX4.0...  \n",
       "1030356  http://images.amazon.com/images/P/0449701913.0...  \n",
       "1030861  http://images.amazon.com/images/P/1586210661.0...  \n",
       "\n",
       "[58497 rows x 10 columns]"
      ]
     },
     "execution_count": 605,
     "metadata": {},
     "output_type": "execute_result"
    }
   ],
   "source": [
    "final_ratings"
   ]
  },
  {
   "cell_type": "code",
   "execution_count": 610,
   "id": "60c74533",
   "metadata": {},
   "outputs": [],
   "source": [
    "pt=final_ratings.pivot_table(index='Book-Title',columns='User-ID',values='Book-Rating')"
   ]
  },
  {
   "cell_type": "code",
   "execution_count": 611,
   "id": "cf4204ae",
   "metadata": {},
   "outputs": [],
   "source": [
    "pt.fillna(0,inplace=True)"
   ]
  },
  {
   "cell_type": "code",
   "execution_count": 612,
   "id": "781ef4e9",
   "metadata": {},
   "outputs": [
    {
     "data": {
      "text/html": [
       "<div>\n",
       "<style scoped>\n",
       "    .dataframe tbody tr th:only-of-type {\n",
       "        vertical-align: middle;\n",
       "    }\n",
       "\n",
       "    .dataframe tbody tr th {\n",
       "        vertical-align: top;\n",
       "    }\n",
       "\n",
       "    .dataframe thead th {\n",
       "        text-align: right;\n",
       "    }\n",
       "</style>\n",
       "<table border=\"1\" class=\"dataframe\">\n",
       "  <thead>\n",
       "    <tr style=\"text-align: right;\">\n",
       "      <th>User-ID</th>\n",
       "      <th>254</th>\n",
       "      <th>2276</th>\n",
       "      <th>2766</th>\n",
       "      <th>2977</th>\n",
       "      <th>3363</th>\n",
       "      <th>4017</th>\n",
       "      <th>4385</th>\n",
       "      <th>6251</th>\n",
       "      <th>6323</th>\n",
       "      <th>6543</th>\n",
       "      <th>...</th>\n",
       "      <th>274004</th>\n",
       "      <th>274061</th>\n",
       "      <th>274301</th>\n",
       "      <th>274308</th>\n",
       "      <th>274808</th>\n",
       "      <th>275970</th>\n",
       "      <th>277427</th>\n",
       "      <th>277639</th>\n",
       "      <th>278188</th>\n",
       "      <th>278418</th>\n",
       "    </tr>\n",
       "    <tr>\n",
       "      <th>Book-Title</th>\n",
       "      <th></th>\n",
       "      <th></th>\n",
       "      <th></th>\n",
       "      <th></th>\n",
       "      <th></th>\n",
       "      <th></th>\n",
       "      <th></th>\n",
       "      <th></th>\n",
       "      <th></th>\n",
       "      <th></th>\n",
       "      <th></th>\n",
       "      <th></th>\n",
       "      <th></th>\n",
       "      <th></th>\n",
       "      <th></th>\n",
       "      <th></th>\n",
       "      <th></th>\n",
       "      <th></th>\n",
       "      <th></th>\n",
       "      <th></th>\n",
       "      <th></th>\n",
       "    </tr>\n",
       "  </thead>\n",
       "  <tbody>\n",
       "    <tr>\n",
       "      <th>1984</th>\n",
       "      <td>9.0</td>\n",
       "      <td>0.0</td>\n",
       "      <td>0.0</td>\n",
       "      <td>0.0</td>\n",
       "      <td>0.0</td>\n",
       "      <td>0.0</td>\n",
       "      <td>0.0</td>\n",
       "      <td>0.0</td>\n",
       "      <td>0.0</td>\n",
       "      <td>0.0</td>\n",
       "      <td>...</td>\n",
       "      <td>0.0</td>\n",
       "      <td>0.0</td>\n",
       "      <td>0.0</td>\n",
       "      <td>0.0</td>\n",
       "      <td>0.0</td>\n",
       "      <td>0.0</td>\n",
       "      <td>0.0</td>\n",
       "      <td>0.0</td>\n",
       "      <td>0.0</td>\n",
       "      <td>0.0</td>\n",
       "    </tr>\n",
       "    <tr>\n",
       "      <th>1st to Die: A Novel</th>\n",
       "      <td>0.0</td>\n",
       "      <td>0.0</td>\n",
       "      <td>0.0</td>\n",
       "      <td>0.0</td>\n",
       "      <td>0.0</td>\n",
       "      <td>0.0</td>\n",
       "      <td>0.0</td>\n",
       "      <td>0.0</td>\n",
       "      <td>0.0</td>\n",
       "      <td>9.0</td>\n",
       "      <td>...</td>\n",
       "      <td>0.0</td>\n",
       "      <td>0.0</td>\n",
       "      <td>0.0</td>\n",
       "      <td>0.0</td>\n",
       "      <td>0.0</td>\n",
       "      <td>0.0</td>\n",
       "      <td>0.0</td>\n",
       "      <td>0.0</td>\n",
       "      <td>0.0</td>\n",
       "      <td>0.0</td>\n",
       "    </tr>\n",
       "    <tr>\n",
       "      <th>2nd Chance</th>\n",
       "      <td>0.0</td>\n",
       "      <td>10.0</td>\n",
       "      <td>0.0</td>\n",
       "      <td>0.0</td>\n",
       "      <td>0.0</td>\n",
       "      <td>0.0</td>\n",
       "      <td>0.0</td>\n",
       "      <td>0.0</td>\n",
       "      <td>0.0</td>\n",
       "      <td>0.0</td>\n",
       "      <td>...</td>\n",
       "      <td>0.0</td>\n",
       "      <td>0.0</td>\n",
       "      <td>0.0</td>\n",
       "      <td>0.0</td>\n",
       "      <td>0.0</td>\n",
       "      <td>0.0</td>\n",
       "      <td>0.0</td>\n",
       "      <td>0.0</td>\n",
       "      <td>0.0</td>\n",
       "      <td>0.0</td>\n",
       "    </tr>\n",
       "    <tr>\n",
       "      <th>4 Blondes</th>\n",
       "      <td>0.0</td>\n",
       "      <td>0.0</td>\n",
       "      <td>0.0</td>\n",
       "      <td>0.0</td>\n",
       "      <td>0.0</td>\n",
       "      <td>0.0</td>\n",
       "      <td>0.0</td>\n",
       "      <td>0.0</td>\n",
       "      <td>0.0</td>\n",
       "      <td>0.0</td>\n",
       "      <td>...</td>\n",
       "      <td>0.0</td>\n",
       "      <td>0.0</td>\n",
       "      <td>0.0</td>\n",
       "      <td>0.0</td>\n",
       "      <td>0.0</td>\n",
       "      <td>0.0</td>\n",
       "      <td>0.0</td>\n",
       "      <td>0.0</td>\n",
       "      <td>0.0</td>\n",
       "      <td>0.0</td>\n",
       "    </tr>\n",
       "    <tr>\n",
       "      <th>A Bend in the Road</th>\n",
       "      <td>0.0</td>\n",
       "      <td>0.0</td>\n",
       "      <td>7.0</td>\n",
       "      <td>0.0</td>\n",
       "      <td>0.0</td>\n",
       "      <td>0.0</td>\n",
       "      <td>0.0</td>\n",
       "      <td>0.0</td>\n",
       "      <td>0.0</td>\n",
       "      <td>0.0</td>\n",
       "      <td>...</td>\n",
       "      <td>0.0</td>\n",
       "      <td>0.0</td>\n",
       "      <td>0.0</td>\n",
       "      <td>0.0</td>\n",
       "      <td>0.0</td>\n",
       "      <td>0.0</td>\n",
       "      <td>0.0</td>\n",
       "      <td>0.0</td>\n",
       "      <td>0.0</td>\n",
       "      <td>0.0</td>\n",
       "    </tr>\n",
       "    <tr>\n",
       "      <th>...</th>\n",
       "      <td>...</td>\n",
       "      <td>...</td>\n",
       "      <td>...</td>\n",
       "      <td>...</td>\n",
       "      <td>...</td>\n",
       "      <td>...</td>\n",
       "      <td>...</td>\n",
       "      <td>...</td>\n",
       "      <td>...</td>\n",
       "      <td>...</td>\n",
       "      <td>...</td>\n",
       "      <td>...</td>\n",
       "      <td>...</td>\n",
       "      <td>...</td>\n",
       "      <td>...</td>\n",
       "      <td>...</td>\n",
       "      <td>...</td>\n",
       "      <td>...</td>\n",
       "      <td>...</td>\n",
       "      <td>...</td>\n",
       "      <td>...</td>\n",
       "    </tr>\n",
       "    <tr>\n",
       "      <th>Year of Wonders</th>\n",
       "      <td>0.0</td>\n",
       "      <td>0.0</td>\n",
       "      <td>0.0</td>\n",
       "      <td>7.0</td>\n",
       "      <td>0.0</td>\n",
       "      <td>0.0</td>\n",
       "      <td>0.0</td>\n",
       "      <td>0.0</td>\n",
       "      <td>0.0</td>\n",
       "      <td>0.0</td>\n",
       "      <td>...</td>\n",
       "      <td>0.0</td>\n",
       "      <td>0.0</td>\n",
       "      <td>0.0</td>\n",
       "      <td>0.0</td>\n",
       "      <td>0.0</td>\n",
       "      <td>0.0</td>\n",
       "      <td>0.0</td>\n",
       "      <td>0.0</td>\n",
       "      <td>0.0</td>\n",
       "      <td>0.0</td>\n",
       "    </tr>\n",
       "    <tr>\n",
       "      <th>You Belong To Me</th>\n",
       "      <td>0.0</td>\n",
       "      <td>0.0</td>\n",
       "      <td>0.0</td>\n",
       "      <td>0.0</td>\n",
       "      <td>0.0</td>\n",
       "      <td>0.0</td>\n",
       "      <td>0.0</td>\n",
       "      <td>0.0</td>\n",
       "      <td>0.0</td>\n",
       "      <td>0.0</td>\n",
       "      <td>...</td>\n",
       "      <td>0.0</td>\n",
       "      <td>0.0</td>\n",
       "      <td>0.0</td>\n",
       "      <td>0.0</td>\n",
       "      <td>0.0</td>\n",
       "      <td>0.0</td>\n",
       "      <td>0.0</td>\n",
       "      <td>0.0</td>\n",
       "      <td>0.0</td>\n",
       "      <td>0.0</td>\n",
       "    </tr>\n",
       "    <tr>\n",
       "      <th>Zen and the Art of Motorcycle Maintenance: An Inquiry into Values</th>\n",
       "      <td>0.0</td>\n",
       "      <td>0.0</td>\n",
       "      <td>0.0</td>\n",
       "      <td>0.0</td>\n",
       "      <td>0.0</td>\n",
       "      <td>0.0</td>\n",
       "      <td>0.0</td>\n",
       "      <td>0.0</td>\n",
       "      <td>0.0</td>\n",
       "      <td>0.0</td>\n",
       "      <td>...</td>\n",
       "      <td>0.0</td>\n",
       "      <td>0.0</td>\n",
       "      <td>0.0</td>\n",
       "      <td>0.0</td>\n",
       "      <td>0.0</td>\n",
       "      <td>0.0</td>\n",
       "      <td>0.0</td>\n",
       "      <td>0.0</td>\n",
       "      <td>0.0</td>\n",
       "      <td>0.0</td>\n",
       "    </tr>\n",
       "    <tr>\n",
       "      <th>Zoya</th>\n",
       "      <td>0.0</td>\n",
       "      <td>0.0</td>\n",
       "      <td>0.0</td>\n",
       "      <td>0.0</td>\n",
       "      <td>0.0</td>\n",
       "      <td>0.0</td>\n",
       "      <td>0.0</td>\n",
       "      <td>0.0</td>\n",
       "      <td>0.0</td>\n",
       "      <td>0.0</td>\n",
       "      <td>...</td>\n",
       "      <td>0.0</td>\n",
       "      <td>0.0</td>\n",
       "      <td>0.0</td>\n",
       "      <td>0.0</td>\n",
       "      <td>0.0</td>\n",
       "      <td>0.0</td>\n",
       "      <td>0.0</td>\n",
       "      <td>0.0</td>\n",
       "      <td>0.0</td>\n",
       "      <td>0.0</td>\n",
       "    </tr>\n",
       "    <tr>\n",
       "      <th>\\O\\\" Is for Outlaw\"</th>\n",
       "      <td>0.0</td>\n",
       "      <td>0.0</td>\n",
       "      <td>0.0</td>\n",
       "      <td>0.0</td>\n",
       "      <td>0.0</td>\n",
       "      <td>0.0</td>\n",
       "      <td>0.0</td>\n",
       "      <td>0.0</td>\n",
       "      <td>0.0</td>\n",
       "      <td>0.0</td>\n",
       "      <td>...</td>\n",
       "      <td>0.0</td>\n",
       "      <td>0.0</td>\n",
       "      <td>8.0</td>\n",
       "      <td>0.0</td>\n",
       "      <td>0.0</td>\n",
       "      <td>0.0</td>\n",
       "      <td>0.0</td>\n",
       "      <td>0.0</td>\n",
       "      <td>0.0</td>\n",
       "      <td>0.0</td>\n",
       "    </tr>\n",
       "  </tbody>\n",
       "</table>\n",
       "<p>683 rows × 847 columns</p>\n",
       "</div>"
      ],
      "text/plain": [
       "User-ID                                             254     2276    2766    \\\n",
       "Book-Title                                                                   \n",
       "1984                                                   9.0     0.0     0.0   \n",
       "1st to Die: A Novel                                    0.0     0.0     0.0   \n",
       "2nd Chance                                             0.0    10.0     0.0   \n",
       "4 Blondes                                              0.0     0.0     0.0   \n",
       "A Bend in the Road                                     0.0     0.0     7.0   \n",
       "...                                                    ...     ...     ...   \n",
       "Year of Wonders                                        0.0     0.0     0.0   \n",
       "You Belong To Me                                       0.0     0.0     0.0   \n",
       "Zen and the Art of Motorcycle Maintenance: An I...     0.0     0.0     0.0   \n",
       "Zoya                                                   0.0     0.0     0.0   \n",
       "\\O\\\" Is for Outlaw\"                                    0.0     0.0     0.0   \n",
       "\n",
       "User-ID                                             2977    3363    4017    \\\n",
       "Book-Title                                                                   \n",
       "1984                                                   0.0     0.0     0.0   \n",
       "1st to Die: A Novel                                    0.0     0.0     0.0   \n",
       "2nd Chance                                             0.0     0.0     0.0   \n",
       "4 Blondes                                              0.0     0.0     0.0   \n",
       "A Bend in the Road                                     0.0     0.0     0.0   \n",
       "...                                                    ...     ...     ...   \n",
       "Year of Wonders                                        7.0     0.0     0.0   \n",
       "You Belong To Me                                       0.0     0.0     0.0   \n",
       "Zen and the Art of Motorcycle Maintenance: An I...     0.0     0.0     0.0   \n",
       "Zoya                                                   0.0     0.0     0.0   \n",
       "\\O\\\" Is for Outlaw\"                                    0.0     0.0     0.0   \n",
       "\n",
       "User-ID                                             4385    6251    6323    \\\n",
       "Book-Title                                                                   \n",
       "1984                                                   0.0     0.0     0.0   \n",
       "1st to Die: A Novel                                    0.0     0.0     0.0   \n",
       "2nd Chance                                             0.0     0.0     0.0   \n",
       "4 Blondes                                              0.0     0.0     0.0   \n",
       "A Bend in the Road                                     0.0     0.0     0.0   \n",
       "...                                                    ...     ...     ...   \n",
       "Year of Wonders                                        0.0     0.0     0.0   \n",
       "You Belong To Me                                       0.0     0.0     0.0   \n",
       "Zen and the Art of Motorcycle Maintenance: An I...     0.0     0.0     0.0   \n",
       "Zoya                                                   0.0     0.0     0.0   \n",
       "\\O\\\" Is for Outlaw\"                                    0.0     0.0     0.0   \n",
       "\n",
       "User-ID                                             6543    ...  274004  \\\n",
       "Book-Title                                                  ...           \n",
       "1984                                                   0.0  ...     0.0   \n",
       "1st to Die: A Novel                                    9.0  ...     0.0   \n",
       "2nd Chance                                             0.0  ...     0.0   \n",
       "4 Blondes                                              0.0  ...     0.0   \n",
       "A Bend in the Road                                     0.0  ...     0.0   \n",
       "...                                                    ...  ...     ...   \n",
       "Year of Wonders                                        0.0  ...     0.0   \n",
       "You Belong To Me                                       0.0  ...     0.0   \n",
       "Zen and the Art of Motorcycle Maintenance: An I...     0.0  ...     0.0   \n",
       "Zoya                                                   0.0  ...     0.0   \n",
       "\\O\\\" Is for Outlaw\"                                    0.0  ...     0.0   \n",
       "\n",
       "User-ID                                             274061  274301  274308  \\\n",
       "Book-Title                                                                   \n",
       "1984                                                   0.0     0.0     0.0   \n",
       "1st to Die: A Novel                                    0.0     0.0     0.0   \n",
       "2nd Chance                                             0.0     0.0     0.0   \n",
       "4 Blondes                                              0.0     0.0     0.0   \n",
       "A Bend in the Road                                     0.0     0.0     0.0   \n",
       "...                                                    ...     ...     ...   \n",
       "Year of Wonders                                        0.0     0.0     0.0   \n",
       "You Belong To Me                                       0.0     0.0     0.0   \n",
       "Zen and the Art of Motorcycle Maintenance: An I...     0.0     0.0     0.0   \n",
       "Zoya                                                   0.0     0.0     0.0   \n",
       "\\O\\\" Is for Outlaw\"                                    0.0     8.0     0.0   \n",
       "\n",
       "User-ID                                             274808  275970  277427  \\\n",
       "Book-Title                                                                   \n",
       "1984                                                   0.0     0.0     0.0   \n",
       "1st to Die: A Novel                                    0.0     0.0     0.0   \n",
       "2nd Chance                                             0.0     0.0     0.0   \n",
       "4 Blondes                                              0.0     0.0     0.0   \n",
       "A Bend in the Road                                     0.0     0.0     0.0   \n",
       "...                                                    ...     ...     ...   \n",
       "Year of Wonders                                        0.0     0.0     0.0   \n",
       "You Belong To Me                                       0.0     0.0     0.0   \n",
       "Zen and the Art of Motorcycle Maintenance: An I...     0.0     0.0     0.0   \n",
       "Zoya                                                   0.0     0.0     0.0   \n",
       "\\O\\\" Is for Outlaw\"                                    0.0     0.0     0.0   \n",
       "\n",
       "User-ID                                             277639  278188  278418  \n",
       "Book-Title                                                                  \n",
       "1984                                                   0.0     0.0     0.0  \n",
       "1st to Die: A Novel                                    0.0     0.0     0.0  \n",
       "2nd Chance                                             0.0     0.0     0.0  \n",
       "4 Blondes                                              0.0     0.0     0.0  \n",
       "A Bend in the Road                                     0.0     0.0     0.0  \n",
       "...                                                    ...     ...     ...  \n",
       "Year of Wonders                                        0.0     0.0     0.0  \n",
       "You Belong To Me                                       0.0     0.0     0.0  \n",
       "Zen and the Art of Motorcycle Maintenance: An I...     0.0     0.0     0.0  \n",
       "Zoya                                                   0.0     0.0     0.0  \n",
       "\\O\\\" Is for Outlaw\"                                    0.0     0.0     0.0  \n",
       "\n",
       "[683 rows x 847 columns]"
      ]
     },
     "execution_count": 612,
     "metadata": {},
     "output_type": "execute_result"
    }
   ],
   "source": [
    "pt"
   ]
  },
  {
   "cell_type": "code",
   "execution_count": 614,
   "id": "789419bd",
   "metadata": {},
   "outputs": [],
   "source": [
    "from sklearn.metrics.pairwise import cosine_similarity"
   ]
  },
  {
   "cell_type": "code",
   "execution_count": 616,
   "id": "1b4e424f",
   "metadata": {},
   "outputs": [],
   "source": [
    "similarity_scores=cosine_similarity(pt)"
   ]
  },
  {
   "cell_type": "code",
   "execution_count": 618,
   "id": "95c2ee0f",
   "metadata": {},
   "outputs": [
    {
     "data": {
      "text/plain": [
       "(683, 683)"
      ]
     },
     "execution_count": 618,
     "metadata": {},
     "output_type": "execute_result"
    }
   ],
   "source": [
    "similarity_scores.shape"
   ]
  },
  {
   "cell_type": "code",
   "execution_count": 639,
   "id": "938963f9",
   "metadata": {},
   "outputs": [],
   "source": [
    "def recommend_book(book_name):\n",
    "    book_index=np.where(pt.index==book_name)[0][0] #------------>returning a 2-D array\n",
    "    distances=similarity_scores[book_index]\n",
    "    similar_books=sorted(list(enumerate(distances)),reverse=True,key=lambda x:x[1])[1:10]\n",
    "    \n",
    "    data=[]\n",
    "    for i in similar_books:\n",
    "        item=[]\n",
    "        temp_df=books[books['Book-Title']==pt.index[i[0]]]\n",
    "        item.extend(list(temp_df.drop_duplicates('Book-Title')[\"Book-Title\"].values)) \n",
    "        item.extend(list(temp_df.drop_duplicates('Book-Title')[\"Book-Author\"].values))\n",
    "        item.extend(list(temp_df.drop_duplicates('Book-Title')[\"Image-URL-M\"].values))\n",
    "        \n",
    "        data.append(item)\n",
    "        \n",
    "    return data"
   ]
  },
  {
   "cell_type": "code",
   "execution_count": 640,
   "id": "645ab96b",
   "metadata": {},
   "outputs": [
    {
     "data": {
      "text/plain": [
       "[['Animal Farm',\n",
       "  'George Orwell',\n",
       "  'http://images.amazon.com/images/P/0451526341.01.MZZZZZZZ.jpg'],\n",
       " [\"The Handmaid's Tale\",\n",
       "  'Margaret Atwood',\n",
       "  'http://images.amazon.com/images/P/0449212602.01.MZZZZZZZ.jpg'],\n",
       " ['Brave New World',\n",
       "  'Aldous Huxley',\n",
       "  'http://images.amazon.com/images/P/0060809833.01.MZZZZZZZ.jpg'],\n",
       " ['The Vampire Lestat (Vampire Chronicles, Book II)',\n",
       "  'ANNE RICE',\n",
       "  'http://images.amazon.com/images/P/0345313860.01.MZZZZZZZ.jpg'],\n",
       " ['The Hours : A Novel',\n",
       "  'Michael Cunningham',\n",
       "  'http://images.amazon.com/images/P/0312243022.01.MZZZZZZZ.jpg'],\n",
       " ['Fahrenheit 451',\n",
       "  'Ray Bradbury',\n",
       "  'http://images.amazon.com/images/P/3257208626.01.MZZZZZZZ.jpg'],\n",
       " ['The Catcher in the Rye',\n",
       "  'J.D. Salinger',\n",
       "  'http://images.amazon.com/images/P/0316769487.01.MZZZZZZZ.jpg'],\n",
       " ['Lord of the Flies',\n",
       "  'William Gerald Golding',\n",
       "  'http://images.amazon.com/images/P/0399501487.01.MZZZZZZZ.jpg'],\n",
       " ['The Hundred Secret Senses',\n",
       "  'Amy Tan',\n",
       "  'http://images.amazon.com/images/P/0399141146.01.MZZZZZZZ.jpg']]"
      ]
     },
     "execution_count": 640,
     "metadata": {},
     "output_type": "execute_result"
    }
   ],
   "source": [
    "recommend_book(\"1984\")"
   ]
  },
  {
   "cell_type": "code",
   "execution_count": 630,
   "id": "96f2aacf",
   "metadata": {},
   "outputs": [],
   "source": [
    "import pickle\n",
    "pickle.dump(popular_df,open('popular.pkl','wb'))"
   ]
  },
  {
   "cell_type": "code",
   "execution_count": 641,
   "id": "a95fe8a1",
   "metadata": {},
   "outputs": [],
   "source": [
    "pickle.dump(pt,open('pt.pkl','wb'))"
   ]
  },
  {
   "cell_type": "code",
   "execution_count": 645,
   "id": "b219a618",
   "metadata": {},
   "outputs": [],
   "source": [
    "pickle.dump(books,open('books.pkl','wb'))"
   ]
  },
  {
   "cell_type": "code",
   "execution_count": 643,
   "id": "41010b95",
   "metadata": {},
   "outputs": [],
   "source": [
    "pickle.dump(similarity_scores,open('similarity_scores.pkl','wb'))"
   ]
  },
  {
   "cell_type": "code",
   "execution_count": 644,
   "id": "41a0c5ad",
   "metadata": {},
   "outputs": [],
   "source": [
    "books['Image-URL-M'] = books['Image-URL-M'].str.replace('http://', 'https://') #( books is the dataframe name)"
   ]
  },
  {
   "cell_type": "markdown",
   "id": "6df50880",
   "metadata": {},
   "source": [
    "# COLLABORATIVE FILTERING USING CLUSTERING"
   ]
  },
  {
   "cell_type": "code",
   "execution_count": null,
   "id": "8b2b0803",
   "metadata": {},
   "outputs": [],
   "source": [
    "#import pickle"
   ]
  },
  {
   "cell_type": "code",
   "execution_count": null,
   "id": "6cd3d260",
   "metadata": {},
   "outputs": [],
   "source": [
    "#new_pt=pickle.load(open('pt.pkl','rb'))"
   ]
  },
  {
   "cell_type": "code",
   "execution_count": 3,
   "id": "ed9477af",
   "metadata": {},
   "outputs": [],
   "source": [
    "#from scipy.sparse import csr_matrix"
   ]
  },
  {
   "cell_type": "code",
   "execution_count": 5,
   "id": "eb3f5913",
   "metadata": {},
   "outputs": [],
   "source": [
    "#book_sparse=csr_matrix(new_pt)"
   ]
  },
  {
   "cell_type": "code",
   "execution_count": 6,
   "id": "94d11f16",
   "metadata": {},
   "outputs": [
    {
     "data": {
      "text/plain": [
       "<683x847 sparse matrix of type '<class 'numpy.float64'>'\n",
       "\twith 14399 stored elements in Compressed Sparse Row format>"
      ]
     },
     "execution_count": 6,
     "metadata": {},
     "output_type": "execute_result"
    }
   ],
   "source": [
    "#book_sparse"
   ]
  },
  {
   "cell_type": "code",
   "execution_count": 149,
   "id": "ce86fea7",
   "metadata": {},
   "outputs": [],
   "source": [
    "#from sklearn.neighbors import NearestNeighbors"
   ]
  },
  {
   "cell_type": "code",
   "execution_count": 164,
   "id": "c94a1140",
   "metadata": {},
   "outputs": [
    {
     "name": "stdout",
     "output_type": "stream",
     "text": [
      "3 neighbors = 23.93474447942478\n",
      "4 neighbors = 27.104268179079988\n",
      "5 neighbors = 29.08341454326399\n",
      "6 neighbors = 30.43933658403547\n",
      "7 neighbors = 31.51002471157059\n",
      "8 neighbors = 32.34260529362234\n",
      "9 neighbors = 33.02928476861057\n",
      "10 neighbors = 33.58770320701108\n"
     ]
    }
   ],
   "source": [
    "#tt=[] #cannot use tree with sparse input: using brute force\n",
    "#n_array=np.array(np.arange(3,11,1))\n",
    "#for i in n_array:\n",
    "#    model=NearestNeighbors(algorithm='brute',n_neighbors=i)\n",
    "#    model.fit(book_sparse)\n",
    "#   distances,suggestions=model.kneighbors(new_pt.iloc[237,:].values.reshape(1,-1),n_neighbors=i)\n",
    "#    tt.append(distances.mean())\n",
    "#    print(\"{} neighbors = {}\".format(i,distances.mean()))"
   ]
  },
  {
   "cell_type": "code",
   "execution_count": 165,
   "id": "9a6faac2",
   "metadata": {},
   "outputs": [
    {
     "data": {
      "text/plain": [
       "30.12892272082735"
      ]
     },
     "execution_count": 165,
     "metadata": {},
     "output_type": "execute_result"
    }
   ],
   "source": [
    "#np.mean(tt) #---------> 6 neighbors is performing better."
   ]
  },
  {
   "cell_type": "code",
   "execution_count": 166,
   "id": "9dd9e929",
   "metadata": {},
   "outputs": [],
   "source": [
    "#distances,suggestions=model.kneighbors(new_pt.iloc[237,:].values.reshape(1,-1),n_neighbors=6)"
   ]
  },
  {
   "cell_type": "code",
   "execution_count": 167,
   "id": "0c2ad778",
   "metadata": {},
   "outputs": [
    {
     "data": {
      "text/plain": [
       "array([[ 0.        , 35.70714214, 36.0970913 , 36.61283928, 37.        ,\n",
       "        37.21894679]])"
      ]
     },
     "execution_count": 167,
     "metadata": {},
     "output_type": "execute_result"
    }
   ],
   "source": [
    "#distances"
   ]
  },
  {
   "cell_type": "code",
   "execution_count": 168,
   "id": "862f3b06",
   "metadata": {},
   "outputs": [
    {
     "data": {
      "text/plain": [
       "array([[237, 170, 139, 494, 347,  17]], dtype=int64)"
      ]
     },
     "execution_count": 168,
     "metadata": {},
     "output_type": "execute_result"
    }
   ],
   "source": [
    "#suggestions"
   ]
  },
  {
   "cell_type": "code",
   "execution_count": 169,
   "id": "1e663c06",
   "metadata": {},
   "outputs": [
    {
     "data": {
      "text/plain": [
       "139"
      ]
     },
     "execution_count": 169,
     "metadata": {},
     "output_type": "execute_result"
    }
   ],
   "source": [
    "#np.where(new_pt.index=='Deck the Halls (Holiday Classics)')[0][0]"
   ]
  },
  {
   "cell_type": "code",
   "execution_count": 170,
   "id": "8b7a7329",
   "metadata": {},
   "outputs": [],
   "source": [
    "#def recommend_by_clustering(book_name): #suggestions is 2-D array ----->suggestions[0] gives the array of indices\n",
    "#    book_id=np.where(new_pt.index==book_name)[0][0]\n",
    "#    distances,suggestions=model.kneighbors(new_pt.iloc[book_id,:].values.reshape(1,-1),n_neighbors=7)\n",
    "#    lst=[]\n",
    "#    for i in suggestions[0]:\n",
    "#        #print(new_pt.index[i])\n",
    "#        lst.append(new_pt.index[i])\n",
    "#    return lst"
   ]
  },
  {
   "cell_type": "code",
   "execution_count": 171,
   "id": "0953fdf8",
   "metadata": {},
   "outputs": [
    {
     "data": {
      "text/plain": [
       "['Holes (Yearling Newbery)',\n",
       " 'Exclusive',\n",
       " 'Deck the Halls (Holiday Classics)',\n",
       " 'The Cradle Will Fall',\n",
       " 'No Safe Place',\n",
       " 'A Patchwork Planet',\n",
       " 'Long After Midnight']"
      ]
     },
     "execution_count": 171,
     "metadata": {},
     "output_type": "execute_result"
    }
   ],
   "source": [
    "#recommend_by_clustering('Holes (Yearling Newbery)')"
   ]
  },
  {
   "cell_type": "code",
   "execution_count": null,
   "id": "1e9804cf",
   "metadata": {},
   "outputs": [],
   "source": []
  },
  {
   "cell_type": "code",
   "execution_count": null,
   "id": "11143bc5",
   "metadata": {},
   "outputs": [],
   "source": []
  },
  {
   "cell_type": "code",
   "execution_count": null,
   "id": "621463f2",
   "metadata": {},
   "outputs": [],
   "source": []
  },
  {
   "cell_type": "code",
   "execution_count": null,
   "id": "f5348464",
   "metadata": {},
   "outputs": [],
   "source": []
  },
  {
   "cell_type": "code",
   "execution_count": null,
   "id": "16d0be67",
   "metadata": {},
   "outputs": [],
   "source": []
  },
  {
   "cell_type": "code",
   "execution_count": null,
   "id": "e3ecf382",
   "metadata": {},
   "outputs": [],
   "source": []
  },
  {
   "cell_type": "code",
   "execution_count": null,
   "id": "da4c63ec",
   "metadata": {},
   "outputs": [],
   "source": []
  },
  {
   "cell_type": "code",
   "execution_count": null,
   "id": "36e66cf4",
   "metadata": {},
   "outputs": [],
   "source": []
  },
  {
   "cell_type": "code",
   "execution_count": null,
   "id": "27f8ceff",
   "metadata": {},
   "outputs": [],
   "source": []
  },
  {
   "cell_type": "code",
   "execution_count": null,
   "id": "0ff0c451",
   "metadata": {},
   "outputs": [],
   "source": []
  },
  {
   "cell_type": "code",
   "execution_count": null,
   "id": "b685630a",
   "metadata": {},
   "outputs": [],
   "source": []
  }
 ],
 "metadata": {
  "kernelspec": {
   "display_name": "Python 3 (ipykernel)",
   "language": "python",
   "name": "python3"
  },
  "language_info": {
   "codemirror_mode": {
    "name": "ipython",
    "version": 3
   },
   "file_extension": ".py",
   "mimetype": "text/x-python",
   "name": "python",
   "nbconvert_exporter": "python",
   "pygments_lexer": "ipython3",
   "version": "3.9.13"
  }
 },
 "nbformat": 4,
 "nbformat_minor": 5
}
